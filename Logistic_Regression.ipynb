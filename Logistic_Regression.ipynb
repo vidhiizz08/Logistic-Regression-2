{
  "nbformat": 4,
  "nbformat_minor": 0,
  "metadata": {
    "colab": {
      "provenance": []
    },
    "kernelspec": {
      "name": "python3",
      "display_name": "Python 3"
    },
    "language_info": {
      "name": "python"
    }
  },
  "cells": [
    {
      "cell_type": "markdown",
      "source": [
        "# Theoretical Q&A"
      ],
      "metadata": {
        "id": "4E_PSDzuV5zc"
      }
    },
    {
      "cell_type": "markdown",
      "source": [
        "\n",
        "\n",
        "### 1. What is Logistic Regression, and how does it differ from Linear Regression?\n",
        "\n",
        "**Logistic Regression** is a supervised machine learning algorithm used for **binary classification** problems. It models the probability that a given input belongs to a particular class.\n",
        "\n",
        "**Difference from Linear Regression:**\n",
        "\n",
        "* Linear Regression predicts **continuous values**.\n",
        "* Logistic Regression predicts **probability of class membership**, which is mapped to a range between 0 and 1 using the **Sigmoid function**.\n",
        "\n",
        "---\n",
        "\n",
        "### 2. What is the mathematical equation of Logistic Regression?\n",
        "\n",
        "The hypothesis function in Logistic Regression is:\n",
        "\n",
        "$$\n",
        "h_\\theta(x) = \\frac{1}{1 + e^{-\\theta^T x}}\n",
        "$$\n",
        "\n",
        "Where:\n",
        "\n",
        "* $\\theta^T x$: linear combination of input features and weights\n",
        "* $h_\\theta(x)$: estimated probability that the output is 1\n",
        "\n",
        "---\n",
        "\n",
        "### 3. Why do we use the Sigmoid function in Logistic Regression?\n",
        "\n",
        "The **Sigmoid function** maps any real-valued number to the (0, 1) range, which makes it ideal for modeling probabilities.\n",
        "\n",
        "$$\n",
        "\\sigma(z) = \\frac{1}{1 + e^{-z}}\n",
        "$$\n",
        "\n",
        "* It squashes the output of the linear function to be between 0 and 1.\n",
        "* Allows us to interpret the output as a **probability**.\n",
        "\n",
        "---\n",
        "\n",
        "### 4. What is the cost function of Logistic Regression?\n",
        "\n",
        "The cost function used in Logistic Regression is the **Log Loss** or **Binary Cross-Entropy**:\n",
        "\n",
        "$$\n",
        "J(\\theta) = - \\frac{1}{m} \\sum_{i=1}^{m} \\left[ y^{(i)} \\log(h_\\theta(x^{(i)})) + (1 - y^{(i)}) \\log(1 - h_\\theta(x^{(i)})) \\right]\n",
        "$$\n",
        "\n",
        "Where:\n",
        "\n",
        "* $m$: number of training examples\n",
        "* $y^{(i)}$: true label\n",
        "* $h_\\theta(x^{(i)})$: predicted probability\n",
        "\n",
        "---\n",
        "\n",
        "### 5. What is Regularization in Logistic Regression? Why is it needed?\n",
        "\n",
        "**Regularization** adds a penalty term to the cost function to **prevent overfitting** by discouraging overly complex models.\n",
        "\n",
        "There are two main types:\n",
        "\n",
        "* **L1 Regularization (Lasso)**: adds $\\lambda \\sum |\\theta_j|$\n",
        "* **L2 Regularization (Ridge)**: adds $\\lambda \\sum \\theta_j^2$\n",
        "\n",
        "Regularization is needed to:\n",
        "\n",
        "* Improve generalization.\n",
        "* Prevent large coefficients that could overfit the training data.\n",
        "\n",
        "---\n",
        "\n",
        "### 6. Explain the difference between Lasso, Ridge, and Elastic Net regression\n",
        "\n",
        "| Method          | Penalty Term              | Behavior                                            |   |                                                              |\n",
        "| --------------- | ------------------------- | --------------------------------------------------- | - | ------------------------------------------------------------ |\n",
        "| **Lasso (L1)**  | ( \\lambda \\sum            | \\theta\\_j                                           | ) | Can shrink some coefficients to **zero** (feature selection) |\n",
        "| **Ridge (L2)**  | $\\lambda \\sum \\theta_j^2$ | Shrinks coefficients but **doesn't eliminate** them |   |                                                              |\n",
        "| **Elastic Net** | Combination of L1 and L2  | Useful when there are **correlated features**       |   |                                                              |\n",
        "\n",
        "---\n",
        "\n",
        "### 7. When should we use Elastic Net instead of Lasso or Ridge?\n",
        "\n",
        "Use **Elastic Net** when:\n",
        "\n",
        "* There are **many correlated features**.\n",
        "* You want **sparse** model with some **feature selection**, but Ridge’s stability too.\n",
        "* Neither Lasso nor Ridge alone performs well.\n",
        "\n",
        "---\n",
        "\n",
        "### 8. What is the impact of the regularization parameter (λ) in Logistic Regression?\n",
        "\n",
        "* **Small λ (lambda)**: Less regularization → more complex model → may overfit.\n",
        "* **Large λ**: More regularization → simpler model → may underfit.\n",
        "\n",
        "Choosing the right λ is crucial for balancing **bias and variance**.\n",
        "\n",
        "---\n",
        "\n",
        "### 9. What are the key assumptions of Logistic Regression?\n",
        "\n",
        "1. **Linearity**: The log-odds (not probability) are a linear combination of input features.\n",
        "2. **Independence**: Observations are independent.\n",
        "3. **No multicollinearity**: Independent variables are not highly correlated.\n",
        "4. **Large sample size**: Helps ensure stable and reliable estimates.\n",
        "\n",
        "---\n",
        "\n",
        "### 10. What are some alternatives to Logistic Regression for classification tasks?\n",
        "\n",
        "* **Support Vector Machines (SVM)**\n",
        "* **Decision Trees**\n",
        "* **Random Forests**\n",
        "* **Gradient Boosting Machines (GBM)**\n",
        "* **k-Nearest Neighbors (k-NN)**\n",
        "* **Naive Bayes**\n",
        "* **Neural Networks**\n",
        "\n",
        "---\n",
        "\n",
        "### 11. What are Classification Evaluation Metrics?\n",
        "\n",
        "* **Accuracy**: (TP + TN) / Total\n",
        "* **Precision**: TP / (TP + FP)\n",
        "* **Recall (Sensitivity)**: TP / (TP + FN)\n",
        "* **F1 Score**: 2 \\* (Precision \\* Recall) / (Precision + Recall)\n",
        "* **ROC-AUC**: Area under ROC Curve\n",
        "* **Confusion Matrix**: Summary of prediction results\n",
        "\n",
        "---\n",
        "\n",
        "### 12. How does class imbalance affect Logistic Regression?\n",
        "\n",
        "* Model becomes biased toward the majority class.\n",
        "* High accuracy might be misleading (majority class dominates).\n",
        "* Precision, recall, and F1-score are better metrics.\n",
        "* Solutions:\n",
        "\n",
        "  * **Resampling**: oversample minority or undersample majority class.\n",
        "  * **Use of class weights** in the loss function.\n",
        "\n",
        "---\n",
        "\n",
        "### 13. What is Hyperparameter Tuning in Logistic Regression?\n",
        "\n",
        "**Hyperparameter Tuning** involves selecting the best model parameters (like regularization strength λ) using:\n",
        "\n",
        "* **Grid Search**\n",
        "* **Random Search**\n",
        "* **Cross-validation**\n",
        "\n",
        "It helps in improving model performance and generalization.\n",
        "\n",
        "---\n",
        "\n",
        "### 14. What are different solvers in Logistic Regression? Which one should be used?\n",
        "\n",
        "Common solvers:\n",
        "\n",
        "* **liblinear**: Good for small datasets and L1 regularization.\n",
        "* **lbfgs**: Efficient for large datasets and supports L2 regularization.\n",
        "* **saga**: Handles L1, L2, and Elastic Net; scalable.\n",
        "* **newton-cg**: Supports L2; good for large feature sets.\n",
        "\n",
        "**Choose** based on:\n",
        "\n",
        "* Dataset size\n",
        "* Regularization type\n",
        "* Speed and memory requirements\n",
        "\n",
        "---\n",
        "\n",
        "### 15. How is Logistic Regression extended for multiclass classification?\n",
        "\n",
        "By using:\n",
        "\n",
        "* **One-vs-Rest (OvR)**: Train one binary classifier per class.\n",
        "* **Softmax Regression (Multinomial Logistic Regression)**: Directly predicts probabilities for all classes using the **Softmax** function.\n",
        "\n",
        "---\n",
        "\n",
        "### 16. What are the advantages and disadvantages of Logistic Regression?\n",
        "\n",
        "**Advantages:**\n",
        "\n",
        "* Simple and interpretable\n",
        "* Fast to train\n",
        "* Works well with linearly separable data\n",
        "* Probabilistic outputs\n",
        "\n",
        "**Disadvantages:**\n",
        "\n",
        "* Assumes linearity in the log-odds\n",
        "* Struggles with non-linear relationships\n",
        "* Sensitive to multicollinearity and outliers\n",
        "\n",
        "---\n",
        "\n",
        "### 17. What are some use cases of Logistic Regression?\n",
        "\n",
        "* Email spam detection\n",
        "* Medical diagnosis (e.g., disease prediction)\n",
        "* Customer churn prediction\n",
        "* Credit scoring\n",
        "* Click-through rate prediction\n",
        "\n",
        "---\n",
        "\n",
        "### 18. What is the difference between Softmax Regression and Logistic Regression?\n",
        "\n",
        "| Aspect           | Logistic Regression | Softmax Regression                |\n",
        "| ---------------- | ------------------- | --------------------------------- |\n",
        "| Output           | Binary (0 or 1)     | Multiclass probabilities          |\n",
        "| Function Used    | Sigmoid             | Softmax                           |\n",
        "| Number of Models | One                 | One unified model for all classes |\n",
        "\n",
        "---\n",
        "\n",
        "### 19. How do we choose between One-vs-Rest (OvR) and Softmax for multiclass classification?\n",
        "\n",
        "* Use **OvR** for simple, interpretable models or when using binary classifiers.\n",
        "* Use **Softmax** when you want a single, unified model that handles all classes jointly and outputs multiclass probabilities.\n",
        "\n",
        "---\n",
        "\n",
        "### 20. How do we interpret coefficients in Logistic Regression?\n",
        "\n",
        "Each coefficient $\\theta_j$ represents the change in the **log-odds** of the outcome for a **one-unit increase** in feature $x_j$, keeping other features constant.\n",
        "\n",
        "To interpret in terms of odds ratio:\n",
        "\n",
        "$$\n",
        "\\text{Odds Ratio} = e^{\\theta_j}\n",
        "$$\n",
        "\n",
        "* If $\\theta_j > 0$: Feature increases the odds of the positive class.\n",
        "* If $\\theta_j < 0$: Feature decreases the odds of the positive class.\n",
        "\n",
        "___"
      ],
      "metadata": {
        "id": "JoKWtD1pSzm9"
      }
    },
    {
      "cell_type": "markdown",
      "source": [
        "# Practical Q&A"
      ],
      "metadata": {
        "id": "VMUZFVe8WC_s"
      }
    },
    {
      "cell_type": "code",
      "execution_count": 21,
      "metadata": {
        "id": "5PaUNMb3Sy0z"
      },
      "outputs": [],
      "source": [
        "import pandas as pd\n",
        "from pathlib import Path\n",
        "from sklearn.model_selection import train_test_split, StratifiedKFold, GridSearchCV, RandomizedSearchCV, cross_val_score\n",
        "from sklearn.preprocessing import StandardScaler, LabelEncoder\n",
        "from sklearn.linear_model import LogisticRegression\n",
        "from sklearn.metrics import (\n",
        "    accuracy_score, precision_score, recall_score, f1_score,\n",
        "    confusion_matrix, ConfusionMatrixDisplay, classification_report,\n",
        "    roc_auc_score, roc_curve, precision_recall_curve,\n",
        "    cohen_kappa_score, matthews_corrcoef\n",
        ")\n",
        "from sklearn.multiclass import OneVsRestClassifier, OneVsOneClassifier\n",
        "import matplotlib.pyplot as plt\n",
        "import numpy as np\n",
        "import joblib\n",
        "import warnings\n",
        "warnings.filterwarnings(\"ignore\", category=FutureWarning)\n"
      ]
    },
    {
      "cell_type": "code",
      "source": [
        "from google.colab import files\n",
        "uploaded = files.upload()"
      ],
      "metadata": {
        "colab": {
          "base_uri": "https://localhost:8080/",
          "height": 73
        },
        "id": "dNuRuvVGWtrP",
        "outputId": "39f29c6a-4dae-433e-dc52-85141e7902ab"
      },
      "execution_count": 22,
      "outputs": [
        {
          "output_type": "display_data",
          "data": {
            "text/plain": [
              "<IPython.core.display.HTML object>"
            ],
            "text/html": [
              "\n",
              "     <input type=\"file\" id=\"files-6c537c6a-1d8c-46e7-bc38-c37e96ce2485\" name=\"files[]\" multiple disabled\n",
              "        style=\"border:none\" />\n",
              "     <output id=\"result-6c537c6a-1d8c-46e7-bc38-c37e96ce2485\">\n",
              "      Upload widget is only available when the cell has been executed in the\n",
              "      current browser session. Please rerun this cell to enable.\n",
              "      </output>\n",
              "      <script>// Copyright 2017 Google LLC\n",
              "//\n",
              "// Licensed under the Apache License, Version 2.0 (the \"License\");\n",
              "// you may not use this file except in compliance with the License.\n",
              "// You may obtain a copy of the License at\n",
              "//\n",
              "//      http://www.apache.org/licenses/LICENSE-2.0\n",
              "//\n",
              "// Unless required by applicable law or agreed to in writing, software\n",
              "// distributed under the License is distributed on an \"AS IS\" BASIS,\n",
              "// WITHOUT WARRANTIES OR CONDITIONS OF ANY KIND, either express or implied.\n",
              "// See the License for the specific language governing permissions and\n",
              "// limitations under the License.\n",
              "\n",
              "/**\n",
              " * @fileoverview Helpers for google.colab Python module.\n",
              " */\n",
              "(function(scope) {\n",
              "function span(text, styleAttributes = {}) {\n",
              "  const element = document.createElement('span');\n",
              "  element.textContent = text;\n",
              "  for (const key of Object.keys(styleAttributes)) {\n",
              "    element.style[key] = styleAttributes[key];\n",
              "  }\n",
              "  return element;\n",
              "}\n",
              "\n",
              "// Max number of bytes which will be uploaded at a time.\n",
              "const MAX_PAYLOAD_SIZE = 100 * 1024;\n",
              "\n",
              "function _uploadFiles(inputId, outputId) {\n",
              "  const steps = uploadFilesStep(inputId, outputId);\n",
              "  const outputElement = document.getElementById(outputId);\n",
              "  // Cache steps on the outputElement to make it available for the next call\n",
              "  // to uploadFilesContinue from Python.\n",
              "  outputElement.steps = steps;\n",
              "\n",
              "  return _uploadFilesContinue(outputId);\n",
              "}\n",
              "\n",
              "// This is roughly an async generator (not supported in the browser yet),\n",
              "// where there are multiple asynchronous steps and the Python side is going\n",
              "// to poll for completion of each step.\n",
              "// This uses a Promise to block the python side on completion of each step,\n",
              "// then passes the result of the previous step as the input to the next step.\n",
              "function _uploadFilesContinue(outputId) {\n",
              "  const outputElement = document.getElementById(outputId);\n",
              "  const steps = outputElement.steps;\n",
              "\n",
              "  const next = steps.next(outputElement.lastPromiseValue);\n",
              "  return Promise.resolve(next.value.promise).then((value) => {\n",
              "    // Cache the last promise value to make it available to the next\n",
              "    // step of the generator.\n",
              "    outputElement.lastPromiseValue = value;\n",
              "    return next.value.response;\n",
              "  });\n",
              "}\n",
              "\n",
              "/**\n",
              " * Generator function which is called between each async step of the upload\n",
              " * process.\n",
              " * @param {string} inputId Element ID of the input file picker element.\n",
              " * @param {string} outputId Element ID of the output display.\n",
              " * @return {!Iterable<!Object>} Iterable of next steps.\n",
              " */\n",
              "function* uploadFilesStep(inputId, outputId) {\n",
              "  const inputElement = document.getElementById(inputId);\n",
              "  inputElement.disabled = false;\n",
              "\n",
              "  const outputElement = document.getElementById(outputId);\n",
              "  outputElement.innerHTML = '';\n",
              "\n",
              "  const pickedPromise = new Promise((resolve) => {\n",
              "    inputElement.addEventListener('change', (e) => {\n",
              "      resolve(e.target.files);\n",
              "    });\n",
              "  });\n",
              "\n",
              "  const cancel = document.createElement('button');\n",
              "  inputElement.parentElement.appendChild(cancel);\n",
              "  cancel.textContent = 'Cancel upload';\n",
              "  const cancelPromise = new Promise((resolve) => {\n",
              "    cancel.onclick = () => {\n",
              "      resolve(null);\n",
              "    };\n",
              "  });\n",
              "\n",
              "  // Wait for the user to pick the files.\n",
              "  const files = yield {\n",
              "    promise: Promise.race([pickedPromise, cancelPromise]),\n",
              "    response: {\n",
              "      action: 'starting',\n",
              "    }\n",
              "  };\n",
              "\n",
              "  cancel.remove();\n",
              "\n",
              "  // Disable the input element since further picks are not allowed.\n",
              "  inputElement.disabled = true;\n",
              "\n",
              "  if (!files) {\n",
              "    return {\n",
              "      response: {\n",
              "        action: 'complete',\n",
              "      }\n",
              "    };\n",
              "  }\n",
              "\n",
              "  for (const file of files) {\n",
              "    const li = document.createElement('li');\n",
              "    li.append(span(file.name, {fontWeight: 'bold'}));\n",
              "    li.append(span(\n",
              "        `(${file.type || 'n/a'}) - ${file.size} bytes, ` +\n",
              "        `last modified: ${\n",
              "            file.lastModifiedDate ? file.lastModifiedDate.toLocaleDateString() :\n",
              "                                    'n/a'} - `));\n",
              "    const percent = span('0% done');\n",
              "    li.appendChild(percent);\n",
              "\n",
              "    outputElement.appendChild(li);\n",
              "\n",
              "    const fileDataPromise = new Promise((resolve) => {\n",
              "      const reader = new FileReader();\n",
              "      reader.onload = (e) => {\n",
              "        resolve(e.target.result);\n",
              "      };\n",
              "      reader.readAsArrayBuffer(file);\n",
              "    });\n",
              "    // Wait for the data to be ready.\n",
              "    let fileData = yield {\n",
              "      promise: fileDataPromise,\n",
              "      response: {\n",
              "        action: 'continue',\n",
              "      }\n",
              "    };\n",
              "\n",
              "    // Use a chunked sending to avoid message size limits. See b/62115660.\n",
              "    let position = 0;\n",
              "    do {\n",
              "      const length = Math.min(fileData.byteLength - position, MAX_PAYLOAD_SIZE);\n",
              "      const chunk = new Uint8Array(fileData, position, length);\n",
              "      position += length;\n",
              "\n",
              "      const base64 = btoa(String.fromCharCode.apply(null, chunk));\n",
              "      yield {\n",
              "        response: {\n",
              "          action: 'append',\n",
              "          file: file.name,\n",
              "          data: base64,\n",
              "        },\n",
              "      };\n",
              "\n",
              "      let percentDone = fileData.byteLength === 0 ?\n",
              "          100 :\n",
              "          Math.round((position / fileData.byteLength) * 100);\n",
              "      percent.textContent = `${percentDone}% done`;\n",
              "\n",
              "    } while (position < fileData.byteLength);\n",
              "  }\n",
              "\n",
              "  // All done.\n",
              "  yield {\n",
              "    response: {\n",
              "      action: 'complete',\n",
              "    }\n",
              "  };\n",
              "}\n",
              "\n",
              "scope.google = scope.google || {};\n",
              "scope.google.colab = scope.google.colab || {};\n",
              "scope.google.colab._files = {\n",
              "  _uploadFiles,\n",
              "  _uploadFilesContinue,\n",
              "};\n",
              "})(self);\n",
              "</script> "
            ]
          },
          "metadata": {}
        },
        {
          "output_type": "stream",
          "name": "stdout",
          "text": [
            "Saving iris.csv to iris (1).csv\n"
          ]
        }
      ]
    },
    {
      "cell_type": "code",
      "source": [
        "for filename in uploaded.keys():\n",
        "    iris = pd.read_csv(filename)\n",
        "    print(f\"{filename} loaded successfully.\")\n",
        "    display(iris.head())"
      ],
      "metadata": {
        "colab": {
          "base_uri": "https://localhost:8080/",
          "height": 223
        },
        "id": "peyNVbfsXHwv",
        "outputId": "105f2fb2-08bb-40e0-e04a-c9aa55c849ff"
      },
      "execution_count": 23,
      "outputs": [
        {
          "output_type": "stream",
          "name": "stdout",
          "text": [
            "iris (1).csv loaded successfully.\n"
          ]
        },
        {
          "output_type": "display_data",
          "data": {
            "text/plain": [
              "   sepal_length  sepal_width  petal_length  petal_width species\n",
              "0           5.1          3.5           1.4          0.2  setosa\n",
              "1           4.9          3.0           1.4          0.2  setosa\n",
              "2           4.7          3.2           1.3          0.2  setosa\n",
              "3           4.6          3.1           1.5          0.2  setosa\n",
              "4           5.0          3.6           1.4          0.2  setosa"
            ],
            "text/html": [
              "\n",
              "  <div id=\"df-79ad0b5d-bfa2-4a90-a64d-787644d4893c\" class=\"colab-df-container\">\n",
              "    <div>\n",
              "<style scoped>\n",
              "    .dataframe tbody tr th:only-of-type {\n",
              "        vertical-align: middle;\n",
              "    }\n",
              "\n",
              "    .dataframe tbody tr th {\n",
              "        vertical-align: top;\n",
              "    }\n",
              "\n",
              "    .dataframe thead th {\n",
              "        text-align: right;\n",
              "    }\n",
              "</style>\n",
              "<table border=\"1\" class=\"dataframe\">\n",
              "  <thead>\n",
              "    <tr style=\"text-align: right;\">\n",
              "      <th></th>\n",
              "      <th>sepal_length</th>\n",
              "      <th>sepal_width</th>\n",
              "      <th>petal_length</th>\n",
              "      <th>petal_width</th>\n",
              "      <th>species</th>\n",
              "    </tr>\n",
              "  </thead>\n",
              "  <tbody>\n",
              "    <tr>\n",
              "      <th>0</th>\n",
              "      <td>5.1</td>\n",
              "      <td>3.5</td>\n",
              "      <td>1.4</td>\n",
              "      <td>0.2</td>\n",
              "      <td>setosa</td>\n",
              "    </tr>\n",
              "    <tr>\n",
              "      <th>1</th>\n",
              "      <td>4.9</td>\n",
              "      <td>3.0</td>\n",
              "      <td>1.4</td>\n",
              "      <td>0.2</td>\n",
              "      <td>setosa</td>\n",
              "    </tr>\n",
              "    <tr>\n",
              "      <th>2</th>\n",
              "      <td>4.7</td>\n",
              "      <td>3.2</td>\n",
              "      <td>1.3</td>\n",
              "      <td>0.2</td>\n",
              "      <td>setosa</td>\n",
              "    </tr>\n",
              "    <tr>\n",
              "      <th>3</th>\n",
              "      <td>4.6</td>\n",
              "      <td>3.1</td>\n",
              "      <td>1.5</td>\n",
              "      <td>0.2</td>\n",
              "      <td>setosa</td>\n",
              "    </tr>\n",
              "    <tr>\n",
              "      <th>4</th>\n",
              "      <td>5.0</td>\n",
              "      <td>3.6</td>\n",
              "      <td>1.4</td>\n",
              "      <td>0.2</td>\n",
              "      <td>setosa</td>\n",
              "    </tr>\n",
              "  </tbody>\n",
              "</table>\n",
              "</div>\n",
              "    <div class=\"colab-df-buttons\">\n",
              "\n",
              "  <div class=\"colab-df-container\">\n",
              "    <button class=\"colab-df-convert\" onclick=\"convertToInteractive('df-79ad0b5d-bfa2-4a90-a64d-787644d4893c')\"\n",
              "            title=\"Convert this dataframe to an interactive table.\"\n",
              "            style=\"display:none;\">\n",
              "\n",
              "  <svg xmlns=\"http://www.w3.org/2000/svg\" height=\"24px\" viewBox=\"0 -960 960 960\">\n",
              "    <path d=\"M120-120v-720h720v720H120Zm60-500h600v-160H180v160Zm220 220h160v-160H400v160Zm0 220h160v-160H400v160ZM180-400h160v-160H180v160Zm440 0h160v-160H620v160ZM180-180h160v-160H180v160Zm440 0h160v-160H620v160Z\"/>\n",
              "  </svg>\n",
              "    </button>\n",
              "\n",
              "  <style>\n",
              "    .colab-df-container {\n",
              "      display:flex;\n",
              "      gap: 12px;\n",
              "    }\n",
              "\n",
              "    .colab-df-convert {\n",
              "      background-color: #E8F0FE;\n",
              "      border: none;\n",
              "      border-radius: 50%;\n",
              "      cursor: pointer;\n",
              "      display: none;\n",
              "      fill: #1967D2;\n",
              "      height: 32px;\n",
              "      padding: 0 0 0 0;\n",
              "      width: 32px;\n",
              "    }\n",
              "\n",
              "    .colab-df-convert:hover {\n",
              "      background-color: #E2EBFA;\n",
              "      box-shadow: 0px 1px 2px rgba(60, 64, 67, 0.3), 0px 1px 3px 1px rgba(60, 64, 67, 0.15);\n",
              "      fill: #174EA6;\n",
              "    }\n",
              "\n",
              "    .colab-df-buttons div {\n",
              "      margin-bottom: 4px;\n",
              "    }\n",
              "\n",
              "    [theme=dark] .colab-df-convert {\n",
              "      background-color: #3B4455;\n",
              "      fill: #D2E3FC;\n",
              "    }\n",
              "\n",
              "    [theme=dark] .colab-df-convert:hover {\n",
              "      background-color: #434B5C;\n",
              "      box-shadow: 0px 1px 3px 1px rgba(0, 0, 0, 0.15);\n",
              "      filter: drop-shadow(0px 1px 2px rgba(0, 0, 0, 0.3));\n",
              "      fill: #FFFFFF;\n",
              "    }\n",
              "  </style>\n",
              "\n",
              "    <script>\n",
              "      const buttonEl =\n",
              "        document.querySelector('#df-79ad0b5d-bfa2-4a90-a64d-787644d4893c button.colab-df-convert');\n",
              "      buttonEl.style.display =\n",
              "        google.colab.kernel.accessAllowed ? 'block' : 'none';\n",
              "\n",
              "      async function convertToInteractive(key) {\n",
              "        const element = document.querySelector('#df-79ad0b5d-bfa2-4a90-a64d-787644d4893c');\n",
              "        const dataTable =\n",
              "          await google.colab.kernel.invokeFunction('convertToInteractive',\n",
              "                                                    [key], {});\n",
              "        if (!dataTable) return;\n",
              "\n",
              "        const docLinkHtml = 'Like what you see? Visit the ' +\n",
              "          '<a target=\"_blank\" href=https://colab.research.google.com/notebooks/data_table.ipynb>data table notebook</a>'\n",
              "          + ' to learn more about interactive tables.';\n",
              "        element.innerHTML = '';\n",
              "        dataTable['output_type'] = 'display_data';\n",
              "        await google.colab.output.renderOutput(dataTable, element);\n",
              "        const docLink = document.createElement('div');\n",
              "        docLink.innerHTML = docLinkHtml;\n",
              "        element.appendChild(docLink);\n",
              "      }\n",
              "    </script>\n",
              "  </div>\n",
              "\n",
              "\n",
              "    <div id=\"df-8d6fccb3-6dbd-43f8-9ae5-02dcf2b8f79d\">\n",
              "      <button class=\"colab-df-quickchart\" onclick=\"quickchart('df-8d6fccb3-6dbd-43f8-9ae5-02dcf2b8f79d')\"\n",
              "                title=\"Suggest charts\"\n",
              "                style=\"display:none;\">\n",
              "\n",
              "<svg xmlns=\"http://www.w3.org/2000/svg\" height=\"24px\"viewBox=\"0 0 24 24\"\n",
              "     width=\"24px\">\n",
              "    <g>\n",
              "        <path d=\"M19 3H5c-1.1 0-2 .9-2 2v14c0 1.1.9 2 2 2h14c1.1 0 2-.9 2-2V5c0-1.1-.9-2-2-2zM9 17H7v-7h2v7zm4 0h-2V7h2v10zm4 0h-2v-4h2v4z\"/>\n",
              "    </g>\n",
              "</svg>\n",
              "      </button>\n",
              "\n",
              "<style>\n",
              "  .colab-df-quickchart {\n",
              "      --bg-color: #E8F0FE;\n",
              "      --fill-color: #1967D2;\n",
              "      --hover-bg-color: #E2EBFA;\n",
              "      --hover-fill-color: #174EA6;\n",
              "      --disabled-fill-color: #AAA;\n",
              "      --disabled-bg-color: #DDD;\n",
              "  }\n",
              "\n",
              "  [theme=dark] .colab-df-quickchart {\n",
              "      --bg-color: #3B4455;\n",
              "      --fill-color: #D2E3FC;\n",
              "      --hover-bg-color: #434B5C;\n",
              "      --hover-fill-color: #FFFFFF;\n",
              "      --disabled-bg-color: #3B4455;\n",
              "      --disabled-fill-color: #666;\n",
              "  }\n",
              "\n",
              "  .colab-df-quickchart {\n",
              "    background-color: var(--bg-color);\n",
              "    border: none;\n",
              "    border-radius: 50%;\n",
              "    cursor: pointer;\n",
              "    display: none;\n",
              "    fill: var(--fill-color);\n",
              "    height: 32px;\n",
              "    padding: 0;\n",
              "    width: 32px;\n",
              "  }\n",
              "\n",
              "  .colab-df-quickchart:hover {\n",
              "    background-color: var(--hover-bg-color);\n",
              "    box-shadow: 0 1px 2px rgba(60, 64, 67, 0.3), 0 1px 3px 1px rgba(60, 64, 67, 0.15);\n",
              "    fill: var(--button-hover-fill-color);\n",
              "  }\n",
              "\n",
              "  .colab-df-quickchart-complete:disabled,\n",
              "  .colab-df-quickchart-complete:disabled:hover {\n",
              "    background-color: var(--disabled-bg-color);\n",
              "    fill: var(--disabled-fill-color);\n",
              "    box-shadow: none;\n",
              "  }\n",
              "\n",
              "  .colab-df-spinner {\n",
              "    border: 2px solid var(--fill-color);\n",
              "    border-color: transparent;\n",
              "    border-bottom-color: var(--fill-color);\n",
              "    animation:\n",
              "      spin 1s steps(1) infinite;\n",
              "  }\n",
              "\n",
              "  @keyframes spin {\n",
              "    0% {\n",
              "      border-color: transparent;\n",
              "      border-bottom-color: var(--fill-color);\n",
              "      border-left-color: var(--fill-color);\n",
              "    }\n",
              "    20% {\n",
              "      border-color: transparent;\n",
              "      border-left-color: var(--fill-color);\n",
              "      border-top-color: var(--fill-color);\n",
              "    }\n",
              "    30% {\n",
              "      border-color: transparent;\n",
              "      border-left-color: var(--fill-color);\n",
              "      border-top-color: var(--fill-color);\n",
              "      border-right-color: var(--fill-color);\n",
              "    }\n",
              "    40% {\n",
              "      border-color: transparent;\n",
              "      border-right-color: var(--fill-color);\n",
              "      border-top-color: var(--fill-color);\n",
              "    }\n",
              "    60% {\n",
              "      border-color: transparent;\n",
              "      border-right-color: var(--fill-color);\n",
              "    }\n",
              "    80% {\n",
              "      border-color: transparent;\n",
              "      border-right-color: var(--fill-color);\n",
              "      border-bottom-color: var(--fill-color);\n",
              "    }\n",
              "    90% {\n",
              "      border-color: transparent;\n",
              "      border-bottom-color: var(--fill-color);\n",
              "    }\n",
              "  }\n",
              "</style>\n",
              "\n",
              "      <script>\n",
              "        async function quickchart(key) {\n",
              "          const quickchartButtonEl =\n",
              "            document.querySelector('#' + key + ' button');\n",
              "          quickchartButtonEl.disabled = true;  // To prevent multiple clicks.\n",
              "          quickchartButtonEl.classList.add('colab-df-spinner');\n",
              "          try {\n",
              "            const charts = await google.colab.kernel.invokeFunction(\n",
              "                'suggestCharts', [key], {});\n",
              "          } catch (error) {\n",
              "            console.error('Error during call to suggestCharts:', error);\n",
              "          }\n",
              "          quickchartButtonEl.classList.remove('colab-df-spinner');\n",
              "          quickchartButtonEl.classList.add('colab-df-quickchart-complete');\n",
              "        }\n",
              "        (() => {\n",
              "          let quickchartButtonEl =\n",
              "            document.querySelector('#df-8d6fccb3-6dbd-43f8-9ae5-02dcf2b8f79d button');\n",
              "          quickchartButtonEl.style.display =\n",
              "            google.colab.kernel.accessAllowed ? 'block' : 'none';\n",
              "        })();\n",
              "      </script>\n",
              "    </div>\n",
              "\n",
              "    </div>\n",
              "  </div>\n"
            ],
            "application/vnd.google.colaboratory.intrinsic+json": {
              "type": "dataframe",
              "summary": "{\n  \"name\": \"    display(iris\",\n  \"rows\": 5,\n  \"fields\": [\n    {\n      \"column\": \"sepal_length\",\n      \"properties\": {\n        \"dtype\": \"number\",\n        \"std\": 0.2073644135332772,\n        \"min\": 4.6,\n        \"max\": 5.1,\n        \"num_unique_values\": 5,\n        \"samples\": [\n          4.9,\n          5.0,\n          4.7\n        ],\n        \"semantic_type\": \"\",\n        \"description\": \"\"\n      }\n    },\n    {\n      \"column\": \"sepal_width\",\n      \"properties\": {\n        \"dtype\": \"number\",\n        \"std\": 0.2588435821108957,\n        \"min\": 3.0,\n        \"max\": 3.6,\n        \"num_unique_values\": 5,\n        \"samples\": [\n          3.0,\n          3.6,\n          3.2\n        ],\n        \"semantic_type\": \"\",\n        \"description\": \"\"\n      }\n    },\n    {\n      \"column\": \"petal_length\",\n      \"properties\": {\n        \"dtype\": \"number\",\n        \"std\": 0.07071067811865474,\n        \"min\": 1.3,\n        \"max\": 1.5,\n        \"num_unique_values\": 3,\n        \"samples\": [\n          1.4,\n          1.3,\n          1.5\n        ],\n        \"semantic_type\": \"\",\n        \"description\": \"\"\n      }\n    },\n    {\n      \"column\": \"petal_width\",\n      \"properties\": {\n        \"dtype\": \"number\",\n        \"std\": 0.0,\n        \"min\": 0.2,\n        \"max\": 0.2,\n        \"num_unique_values\": 1,\n        \"samples\": [\n          0.2\n        ],\n        \"semantic_type\": \"\",\n        \"description\": \"\"\n      }\n    },\n    {\n      \"column\": \"species\",\n      \"properties\": {\n        \"dtype\": \"category\",\n        \"num_unique_values\": 1,\n        \"samples\": [\n          \"setosa\"\n        ],\n        \"semantic_type\": \"\",\n        \"description\": \"\"\n      }\n    }\n  ]\n}"
            }
          },
          "metadata": {}
        }
      ]
    },
    {
      "cell_type": "code",
      "source": [
        "X = iris.drop(columns=[\"species\"])\n",
        "y = iris[\"species\"]\n",
        "\n",
        "# Encode labels 0,1,2\n",
        "le = LabelEncoder()\n",
        "y_enc = le.fit_transform(y)\n",
        "\n",
        "# ---------- 2. TRAIN / TEST (multiclass) ----------\n",
        "X_train, X_test, y_train, y_test = train_test_split(\n",
        "    X, y_enc, test_size=0.2, stratify=y_enc, random_state=42\n",
        ")\n",
        "\n",
        "# ---------- 3.  TRAIN / TEST (binary subset: Setosa vs Versicolor) ----------\n",
        "mask = y.isin([\"setosa\", \"versicolor\"])\n",
        "X_bin, y_bin = X[mask], y[mask].map({\"setosa\":0, \"versicolor\":1})\n",
        "\n",
        "XB_train, XB_test, yB_train, yB_test = train_test_split(\n",
        "    X_bin, y_bin, test_size=0.3, stratify=y_bin, random_state=42\n",
        ")\n",
        "\n",
        "print(\"SET-UP COMPLETE ▸ multiclass shapes:\", X_train.shape, X_test.shape)\n",
        "print(\"                ▸ binary-subset shapes:\", XB_train.shape, XB_test.shape)\n"
      ],
      "metadata": {
        "colab": {
          "base_uri": "https://localhost:8080/"
        },
        "id": "9bLg3-F8XPJT",
        "outputId": "302986cc-f736-4045-a46d-acae03d5100b"
      },
      "execution_count": 24,
      "outputs": [
        {
          "output_type": "stream",
          "name": "stdout",
          "text": [
            "SET-UP COMPLETE ▸ multiclass shapes: (120, 4) (30, 4)\n",
            "                ▸ binary-subset shapes: (70, 4) (30, 4)\n"
          ]
        }
      ]
    },
    {
      "cell_type": "markdown",
      "source": [
        "1 — Basic Logistic Regression (accuracy)"
      ],
      "metadata": {
        "id": "hIWN4ynKXbs1"
      }
    },
    {
      "cell_type": "code",
      "source": [
        "lr_basic = LogisticRegression(max_iter=1000, random_state=42)\n",
        "lr_basic.fit(X_train, y_train)\n",
        "print(\"Accuracy (basic LR):\", round(accuracy_score(y_test, lr_basic.predict(X_test)), 4))\n"
      ],
      "metadata": {
        "colab": {
          "base_uri": "https://localhost:8080/"
        },
        "id": "GX9f4RO7XWxM",
        "outputId": "6e670a30-20c4-4503-98a4-db52f96e24b9"
      },
      "execution_count": 25,
      "outputs": [
        {
          "output_type": "stream",
          "name": "stdout",
          "text": [
            "Accuracy (basic LR): 0.9667\n"
          ]
        }
      ]
    },
    {
      "cell_type": "markdown",
      "source": [
        "2 — L1-regularised (Lasso) Logistic Regression"
      ],
      "metadata": {
        "id": "q4cUoIPMXd_p"
      }
    },
    {
      "cell_type": "code",
      "source": [
        "lr_l1 = LogisticRegression(\n",
        "    penalty=\"l1\", solver=\"saga\", multi_class=\"ovr\",\n",
        "    C=1.0, max_iter=2000, random_state=42\n",
        ")\n",
        "lr_l1.fit(X_train, y_train)\n",
        "print(\"Accuracy (L1):\", round(accuracy_score(y_test, lr_l1.predict(X_test)), 4))\n"
      ],
      "metadata": {
        "colab": {
          "base_uri": "https://localhost:8080/"
        },
        "id": "QgGI5IWfYZBt",
        "outputId": "3a533310-d0d5-4200-eff0-a0b57ea4f7f3"
      },
      "execution_count": 26,
      "outputs": [
        {
          "output_type": "stream",
          "name": "stdout",
          "text": [
            "Accuracy (L1): 0.9333\n"
          ]
        },
        {
          "output_type": "stream",
          "name": "stderr",
          "text": [
            "/usr/local/lib/python3.11/dist-packages/sklearn/linear_model/_sag.py:348: ConvergenceWarning: The max_iter was reached which means the coef_ did not converge\n",
            "  warnings.warn(\n"
          ]
        }
      ]
    },
    {
      "cell_type": "markdown",
      "source": [
        "3 — L2-regularised (Ridge) Logistic Regression + coefficients"
      ],
      "metadata": {
        "id": "eESEXlB-Xd8R"
      }
    },
    {
      "cell_type": "code",
      "source": [
        "lr_l2 = LogisticRegression(\n",
        "    penalty=\"l2\", solver=\"lbfgs\", multi_class=\"ovr\",\n",
        "    max_iter=1000, random_state=42\n",
        ")\n",
        "lr_l2.fit(X_train, y_train)\n",
        "print(\"Accuracy (L2):\", round(accuracy_score(y_test, lr_l2.predict(X_test)), 4))\n",
        "print(\"\\nCoefficients (class-wise rows):\\n\", pd.DataFrame(lr_l2.coef_, columns=X.columns))\n"
      ],
      "metadata": {
        "colab": {
          "base_uri": "https://localhost:8080/"
        },
        "id": "wLDN9Ec1YZmI",
        "outputId": "4fbe4dc0-a8dd-45f8-ba77-03078225b1e7"
      },
      "execution_count": 27,
      "outputs": [
        {
          "output_type": "stream",
          "name": "stdout",
          "text": [
            "Accuracy (L2): 0.9333\n",
            "\n",
            "Coefficients (class-wise rows):\n",
            "    sepal_length  sepal_width  petal_length  petal_width\n",
            "0     -0.537858     0.780411     -2.205533    -0.924937\n",
            "1     -0.274619    -1.994214      0.735899    -1.235540\n",
            "2     -0.282403    -0.406028      2.704645     2.191610\n"
          ]
        }
      ]
    },
    {
      "cell_type": "markdown",
      "source": [
        "4 — Elastic-Net Logistic Regression"
      ],
      "metadata": {
        "id": "87xVpWE-Xd5V"
      }
    },
    {
      "cell_type": "code",
      "source": [
        "lr_en = LogisticRegression(\n",
        "    penalty=\"elasticnet\", l1_ratio=0.5,\n",
        "    solver=\"saga\", multi_class=\"ovr\",\n",
        "    max_iter=2000, random_state=42\n",
        ")\n",
        "lr_en.fit(X_train, y_train)\n",
        "print(\"Accuracy (Elastic-Net):\", round(accuracy_score(y_test, lr_en.predict(X_test)), 4))\n",
        "\n"
      ],
      "metadata": {
        "colab": {
          "base_uri": "https://localhost:8080/"
        },
        "id": "kSA9QvxFYaDj",
        "outputId": "2b78088e-3089-4d38-aec8-e017bcf4f939"
      },
      "execution_count": 28,
      "outputs": [
        {
          "output_type": "stream",
          "name": "stdout",
          "text": [
            "Accuracy (Elastic-Net): 0.9333\n"
          ]
        }
      ]
    },
    {
      "cell_type": "markdown",
      "source": [
        "5 — Multiclass One-vs-Rest (multi_class='ovr')"
      ],
      "metadata": {
        "id": "UyvRORMaXd2Z"
      }
    },
    {
      "cell_type": "code",
      "source": [
        "\n",
        "lr_ovr = LogisticRegression(\n",
        "    solver=\"lbfgs\", multi_class=\"ovr\",\n",
        "    max_iter=1000, random_state=42\n",
        ")\n",
        "lr_ovr.fit(X_train, y_train)\n",
        "print(\"Accuracy (OvR):\", round(accuracy_score(y_test, lr_ovr.predict(X_test)), 4))\n"
      ],
      "metadata": {
        "colab": {
          "base_uri": "https://localhost:8080/"
        },
        "id": "wpwHXNTAYamq",
        "outputId": "c9f97fce-4bc2-4804-ae73-79b74b1cab9e"
      },
      "execution_count": 29,
      "outputs": [
        {
          "output_type": "stream",
          "name": "stdout",
          "text": [
            "Accuracy (OvR): 0.9333\n"
          ]
        }
      ]
    },
    {
      "cell_type": "markdown",
      "source": [
        "6 — GridSearchCV tuning (C, penalty)"
      ],
      "metadata": {
        "id": "rsbPCEv7Xdzw"
      }
    },
    {
      "cell_type": "code",
      "source": [
        "param_grid = {\"C\":[0.01,0.1,1,10], \"penalty\":[\"l1\",\"l2\"]}\n",
        "grid = GridSearchCV(\n",
        "    LogisticRegression(solver=\"liblinear\", multi_class=\"ovr\", max_iter=2000, random_state=42),\n",
        "    param_grid=param_grid, cv=5, scoring=\"accuracy\"\n",
        ")\n",
        "grid.fit(X_train, y_train)\n",
        "print(\"GridSearch ▸ best params :\", grid.best_params_)\n",
        "print(\"GridSearch ▸ best CV acc :\", round(grid.best_score_,4))\n",
        "print(\"GridSearch ▸ test acc    :\", round(accuracy_score(y_test, grid.best_estimator_.predict(X_test)),4))\n",
        "\n"
      ],
      "metadata": {
        "colab": {
          "base_uri": "https://localhost:8080/"
        },
        "id": "jr3pqnoTYbA8",
        "outputId": "b130080e-ecdf-469d-e781-2e11bad47989"
      },
      "execution_count": 30,
      "outputs": [
        {
          "output_type": "stream",
          "name": "stdout",
          "text": [
            "GridSearch ▸ best params : {'C': 10, 'penalty': 'l1'}\n",
            "GridSearch ▸ best CV acc : 0.9667\n",
            "GridSearch ▸ test acc    : 0.9667\n"
          ]
        }
      ]
    },
    {
      "cell_type": "markdown",
      "source": [
        "7 — Stratified K-Fold Cross-Validation"
      ],
      "metadata": {
        "id": "HwZVmAzXXdxC"
      }
    },
    {
      "cell_type": "code",
      "source": [
        "cv = StratifiedKFold(n_splits=5, shuffle=True, random_state=42)\n",
        "scores = cross_val_score(lr_basic, X, y_enc, cv=cv, scoring=\"accuracy\")\n",
        "print(\"Stratified K-Fold mean accuracy:\", round(scores.mean(),4))\n"
      ],
      "metadata": {
        "colab": {
          "base_uri": "https://localhost:8080/"
        },
        "id": "Gv0AXnZPYbwm",
        "outputId": "984a6099-d36d-4b96-b549-0b26e085fe43"
      },
      "execution_count": 31,
      "outputs": [
        {
          "output_type": "stream",
          "name": "stdout",
          "text": [
            "Stratified K-Fold mean accuracy: 0.9667\n"
          ]
        }
      ]
    },
    {
      "cell_type": "markdown",
      "source": [
        "8 — Load dataset from CSV and evaluate (same iris)"
      ],
      "metadata": {
        "id": "y8zwgtr9XduR"
      }
    },
    {
      "cell_type": "code",
      "source": [
        "df = pd.read_csv(filename)\n",
        "X8 = df.drop(columns=[\"species\"])\n",
        "y8 = le.transform(df[\"species\"])\n",
        "lr8 = LogisticRegression(max_iter=1000, random_state=42).fit(X8, y8)\n",
        "print(\"Accuracy (whole CSV, no split):\", round(lr8.score(X8, y8),4))\n",
        "\n"
      ],
      "metadata": {
        "colab": {
          "base_uri": "https://localhost:8080/"
        },
        "id": "0Kg6W9f-YcL3",
        "outputId": "519e8e7e-132a-4dc9-bb2f-3f53e44cb3de"
      },
      "execution_count": 34,
      "outputs": [
        {
          "output_type": "stream",
          "name": "stdout",
          "text": [
            "Accuracy (whole CSV, no split): 0.9733\n"
          ]
        }
      ]
    },
    {
      "cell_type": "markdown",
      "source": [
        "9 — RandomizedSearchCV tuning (C, penalty, solver)"
      ],
      "metadata": {
        "id": "uo7-PAsGXdrY"
      }
    },
    {
      "cell_type": "code",
      "source": [
        "from scipy.stats import loguniform\n",
        "rnd = RandomizedSearchCV(\n",
        "    estimator=LogisticRegression(multi_class=\"ovr\", max_iter=2000, random_state=42),\n",
        "    param_distributions={\n",
        "        \"C\": loguniform(1e-3, 1e2),\n",
        "        \"penalty\": [\"l1\",\"l2\"],\n",
        "        \"solver\": [\"liblinear\"]\n",
        "    },\n",
        "    n_iter=20, cv=5, scoring=\"accuracy\", random_state=42, n_jobs=-1\n",
        ")\n",
        "rnd.fit(X_train, y_train)\n",
        "print(\"RandomSearch ▸ best params :\", rnd.best_params_)\n",
        "print(\"RandomSearch ▸ test acc    :\", round(accuracy_score(y_test, rnd.best_estimator_.predict(X_test)),4))\n",
        "\n"
      ],
      "metadata": {
        "colab": {
          "base_uri": "https://localhost:8080/"
        },
        "id": "nHtVYZp4Ygj2",
        "outputId": "391c6250-a17b-4dcf-ff8f-66c3513d06f9"
      },
      "execution_count": 35,
      "outputs": [
        {
          "output_type": "stream",
          "name": "stdout",
          "text": [
            "RandomSearch ▸ best params : {'C': np.float64(3.4702669886504163), 'penalty': 'l2', 'solver': 'liblinear'}\n",
            "RandomSearch ▸ test acc    : 0.9667\n"
          ]
        }
      ]
    },
    {
      "cell_type": "markdown",
      "source": [
        "10 — One-vs-One (OvO) Multiclass Logistic Regression"
      ],
      "metadata": {
        "id": "EG4u0u5CXdoc"
      }
    },
    {
      "cell_type": "code",
      "source": [
        "ovo = OneVsOneClassifier(LogisticRegression(max_iter=1000, random_state=42))\n",
        "ovo.fit(X_train, y_train)\n",
        "print(\"Accuracy (OvO):\", round(accuracy_score(y_test, ovo.predict(X_test)),4))\n"
      ],
      "metadata": {
        "colab": {
          "base_uri": "https://localhost:8080/"
        },
        "id": "yR1_Lq9jYgOy",
        "outputId": "94ad8018-9e7f-4ebf-9760-dad7669269f6"
      },
      "execution_count": 36,
      "outputs": [
        {
          "output_type": "stream",
          "name": "stdout",
          "text": [
            "Accuracy (OvO): 0.9667\n"
          ]
        }
      ]
    },
    {
      "cell_type": "markdown",
      "source": [
        "11 — Confusion Matrix (binary subset)"
      ],
      "metadata": {
        "id": "zug_YWg0Xdlj"
      }
    },
    {
      "cell_type": "code",
      "source": [
        "lr_bin = LogisticRegression(max_iter=1000, random_state=42).fit(XB_train, yB_train)\n",
        "ConfusionMatrixDisplay.from_estimator(lr_bin, XB_test, yB_test, display_labels=[\"Setosa\",\"Versicolor\"])\n",
        "plt.title(\"Confusion Matrix – Binary Iris\")\n",
        "plt.show()\n",
        "\n"
      ],
      "metadata": {
        "colab": {
          "base_uri": "https://localhost:8080/",
          "height": 472
        },
        "id": "5RYhaspVYe7h",
        "outputId": "81dd744f-8a67-4168-9dd4-0f39111ba199"
      },
      "execution_count": 37,
      "outputs": [
        {
          "output_type": "display_data",
          "data": {
            "text/plain": [
              "<Figure size 640x480 with 2 Axes>"
            ],
            "image/png": "[encoded data removed]"
          },
          "metadata": {}
        }
      ]
    },
    {
      "cell_type": "markdown",
      "source": [
        "12 — Precision, Recall, F1-Score (multiclass)"
      ],
      "metadata": {
        "id": "FafuSJjUXdaX"
      }
    },
    {
      "cell_type": "code",
      "source": [
        "print(classification_report(y_test, lr_basic.predict(X_test), target_names=le.classes_))\n",
        "\n"
      ],
      "metadata": {
        "colab": {
          "base_uri": "https://localhost:8080/"
        },
        "id": "PpPb1pZ7Yejj",
        "outputId": "abe0f647-bf71-471c-b49a-f65cf62e2b19"
      },
      "execution_count": 38,
      "outputs": [
        {
          "output_type": "stream",
          "name": "stdout",
          "text": [
            "              precision    recall  f1-score   support\n",
            "\n",
            "      setosa       1.00      1.00      1.00        10\n",
            "  versicolor       1.00      0.90      0.95        10\n",
            "   virginica       0.91      1.00      0.95        10\n",
            "\n",
            "    accuracy                           0.97        30\n",
            "   macro avg       0.97      0.97      0.97        30\n",
            "weighted avg       0.97      0.97      0.97        30\n",
            "\n"
          ]
        }
      ]
    },
    {
      "cell_type": "markdown",
      "source": [
        "13 — Handle Imbalanced Data with class_weight"
      ],
      "metadata": {
        "id": "U_fIXop3Xcz2"
      }
    },
    {
      "cell_type": "code",
      "source": [
        "# Artificially down-sample class 0 (setosa) to create imbalance\n",
        "imbal_mask = ~( (y==0) & (np.random.rand(len(y)) < 0.7) )\n",
        "X_imb, y_imb = X[imbal_mask], y_enc[imbal_mask]\n",
        "\n",
        "Xi_tr, Xi_te, yi_tr, yi_te = train_test_split(X_imb, y_imb, random_state=42, stratify=y_imb)\n",
        "\n",
        "plain = LogisticRegression(max_iter=1000, random_state=42).fit(Xi_tr, yi_tr)\n",
        "weighted = LogisticRegression(class_weight=\"balanced\", max_iter=1000, random_state=42).fit(Xi_tr, yi_tr)\n",
        "\n",
        "print(\"Accuracy plain    :\", round(accuracy_score(yi_te, plain.predict(Xi_te)),4))\n",
        "print(\"Accuracy weighted :\", round(accuracy_score(yi_te, weighted.predict(Xi_te)),4))\n"
      ],
      "metadata": {
        "colab": {
          "base_uri": "https://localhost:8080/"
        },
        "id": "fpLMwA1cYeMJ",
        "outputId": "81c805ea-d894-461c-9eba-0e71e875d550"
      },
      "execution_count": 39,
      "outputs": [
        {
          "output_type": "stream",
          "name": "stdout",
          "text": [
            "Accuracy plain    : 0.9474\n",
            "Accuracy weighted : 0.9474\n"
          ]
        }
      ]
    },
    {
      "cell_type": "markdown",
      "source": [
        "14 — Titanic dataset (missing values handled)\n"
      ],
      "metadata": {
        "id": "PeNE-PV4YLHh"
      }
    },
    {
      "cell_type": "code",
      "source": [
        "import seaborn as sns\n",
        "titanic = sns.load_dataset(\"titanic\")\n",
        "\n",
        "# Simple preprocessing\n",
        "tit = titanic.copy()\n",
        "tit[\"age\"].fillna(tit[\"age\"].median(), inplace=True)\n",
        "tit[\"embark_town\"].fillna(\"Unknown\", inplace=True)\n",
        "tit_num = pd.get_dummies(tit[[\"pclass\",\"sex\",\"age\",\"fare\",\"embark_town\"]], drop_first=True)\n",
        "y_tit = tit[\"survived\"]\n",
        "\n",
        "Xt_tr, Xt_te, yt_tr, yt_te = train_test_split(tit_num, y_tit, test_size=0.2, random_state=42, stratify=y_tit)\n",
        "lr_tit = LogisticRegression(max_iter=2000, class_weight=\"balanced\").fit(Xt_tr, yt_tr)\n",
        "print(\"Titanic accuracy :\", round(accuracy_score(yt_te, lr_tit.predict(Xt_te)),4))\n"
      ],
      "metadata": {
        "colab": {
          "base_uri": "https://localhost:8080/"
        },
        "id": "JGyZAk1dYdWC",
        "outputId": "fb12fa5b-6776-460e-cd6e-611cdf367dff"
      },
      "execution_count": 40,
      "outputs": [
        {
          "output_type": "stream",
          "name": "stdout",
          "text": [
            "Titanic accuracy : 0.7821\n"
          ]
        }
      ]
    },
    {
      "cell_type": "markdown",
      "source": [
        "15 — Feature Scaling (Standardization) vs Raw"
      ],
      "metadata": {
        "id": "1sMvp7xpYLgB"
      }
    },
    {
      "cell_type": "code",
      "source": [
        "scaler = StandardScaler()\n",
        "Xs_tr = scaler.fit_transform(X_train)\n",
        "Xs_te = scaler.transform(X_test)\n",
        "\n",
        "lr_scaled = LogisticRegression(max_iter=1000, random_state=42).fit(Xs_tr, y_train)\n",
        "\n",
        "print(\"Accuracy raw     :\", round(accuracy_score(y_test, lr_basic.predict(X_test)),4))\n",
        "print(\"Accuracy scaled  :\", round(accuracy_score(y_test, lr_scaled.predict(Xs_te)),4))\n",
        "\n"
      ],
      "metadata": {
        "colab": {
          "base_uri": "https://localhost:8080/"
        },
        "id": "yV1N8vq7Yc5K",
        "outputId": "11acfad6-9bb6-4da1-d5ee-035c0f55e168"
      },
      "execution_count": 41,
      "outputs": [
        {
          "output_type": "stream",
          "name": "stdout",
          "text": [
            "Accuracy raw     : 0.9667\n",
            "Accuracy scaled  : 0.9333\n"
          ]
        }
      ]
    },
    {
      "cell_type": "markdown",
      "source": [
        "16 — ROC-AUC (binary subset)"
      ],
      "metadata": {
        "id": "xWywfRLZqX-A"
      }
    },
    {
      "cell_type": "code",
      "source": [
        "proba = lr_bin.predict_proba(XB_test)[:,1]\n",
        "print(\"ROC-AUC (binary):\", round(roc_auc_score(yB_test, proba),4))\n",
        "fpr, tpr, _ = roc_curve(yB_test, proba)\n",
        "plt.figure(); plt.plot(fpr, tpr); plt.plot([0,1],[0,1],'--')\n",
        "plt.xlabel(\"FPR\"); plt.ylabel(\"TPR\"); plt.title(\"ROC Curve – Binary Iris\"); plt.grid(); plt.show()\n"
      ],
      "metadata": {
        "colab": {
          "base_uri": "https://localhost:8080/",
          "height": 489
        },
        "id": "5tNco4MMrRou",
        "outputId": "b65f40da-1e0a-40b1-fc31-d3adec11cf2d"
      },
      "execution_count": 42,
      "outputs": [
        {
          "output_type": "stream",
          "name": "stdout",
          "text": [
            "ROC-AUC (binary): 1.0\n"
          ]
        },
        {
          "output_type": "display_data",
          "data": {
            "text/plain": [
              "<Figure size 640x480 with 1 Axes>"
            ],
            "image/png": "[encoded data removed]"
          },
          "metadata": {}
        }
      ]
    },
    {
      "cell_type": "markdown",
      "source": [
        "17 — Custom C (regularisation strength = 0.5)"
      ],
      "metadata": {
        "id": "dRPJIj12qXzG"
      }
    },
    {
      "cell_type": "code",
      "source": [
        "lr_c05 = LogisticRegression(C=0.5, max_iter=1000, random_state=42).fit(X_train, y_train)\n",
        "print(\"Accuracy (C=0.5):\", round(accuracy_score(y_test, lr_c05.predict(X_test)),4))\n"
      ],
      "metadata": {
        "colab": {
          "base_uri": "https://localhost:8080/"
        },
        "id": "1mAnhShUrSNs",
        "outputId": "816afc06-13ad-405d-a9d3-e387d98f654e"
      },
      "execution_count": 43,
      "outputs": [
        {
          "output_type": "stream",
          "name": "stdout",
          "text": [
            "Accuracy (C=0.5): 0.9667\n"
          ]
        }
      ]
    },
    {
      "cell_type": "markdown",
      "source": [
        "18 — Important Features (|coefficients|)"
      ],
      "metadata": {
        "id": "kD43UwW4qXm2"
      }
    },
    {
      "cell_type": "code",
      "source": [
        "coef_mag = pd.Series(np.abs(lr_l2.coef_).mean(axis=0), index=X.columns)\n",
        "print(\"Top-5 important features:\\n\", coef_mag.sort_values(ascending=False).head())\n"
      ],
      "metadata": {
        "colab": {
          "base_uri": "https://localhost:8080/"
        },
        "id": "nmmtA1UGrSr2",
        "outputId": "4a0d750c-c923-4929-e7dd-5a0ada51dbb8"
      },
      "execution_count": 44,
      "outputs": [
        {
          "output_type": "stream",
          "name": "stdout",
          "text": [
            "Top-5 important features:\n",
            " petal_length    1.882026\n",
            "petal_width     1.450696\n",
            "sepal_width     1.060218\n",
            "sepal_length    0.364960\n",
            "dtype: float64\n"
          ]
        }
      ]
    },
    {
      "cell_type": "markdown",
      "source": [
        "19 — Cohen’s Kappa Score"
      ],
      "metadata": {
        "id": "snug-yyRqXar"
      }
    },
    {
      "cell_type": "code",
      "source": [
        "kappa = cohen_kappa_score(y_test, lr_basic.predict(X_test))\n",
        "print(\"Cohen’s Kappa:\", round(kappa,4))\n"
      ],
      "metadata": {
        "colab": {
          "base_uri": "https://localhost:8080/"
        },
        "id": "2W6U1u8WrTMJ",
        "outputId": "bac2012f-1b3b-4213-bb87-8cbe51dfb380"
      },
      "execution_count": 45,
      "outputs": [
        {
          "output_type": "stream",
          "name": "stdout",
          "text": [
            "Cohen’s Kappa: 0.95\n"
          ]
        }
      ]
    },
    {
      "cell_type": "markdown",
      "source": [
        "20 — Precision-Recall Curve (binary)"
      ],
      "metadata": {
        "id": "A-8NbvYhqUqC"
      }
    },
    {
      "cell_type": "code",
      "source": [
        "prec, rec, _ = precision_recall_curve(yB_test, proba)\n",
        "plt.figure(); plt.plot(rec, prec); plt.xlabel(\"Recall\"); plt.ylabel(\"Precision\")\n",
        "plt.title(\"Precision-Recall Curve – Binary Iris\"); plt.grid(); plt.show()\n"
      ],
      "metadata": {
        "colab": {
          "base_uri": "https://localhost:8080/",
          "height": 472
        },
        "id": "5Lw7Ez1orTuu",
        "outputId": "b547070a-89e7-41aa-ec0d-0f9eabd40112"
      },
      "execution_count": 46,
      "outputs": [
        {
          "output_type": "display_data",
          "data": {
            "text/plain": [
              "<Figure size 640x480 with 1 Axes>"
            ],
            "image/png": "[encoded data removed]"
          },
          "metadata": {}
        }
      ]
    },
    {
      "cell_type": "markdown",
      "source": [
        "21 — Different Solvers Comparison"
      ],
      "metadata": {
        "id": "yTLZs4afqUmd"
      }
    },
    {
      "cell_type": "code",
      "source": [
        "solvers = [\"liblinear\",\"lbfgs\",\"saga\"]\n",
        "for s in solvers:\n",
        "    clf = LogisticRegression(solver=s, multi_class=\"ovr\", max_iter=2000, random_state=42)\n",
        "    clf.fit(X_train, y_train)\n",
        "    print(f\"Accuracy ({s}):\", round(accuracy_score(y_test, clf.predict(X_test)),4))\n"
      ],
      "metadata": {
        "colab": {
          "base_uri": "https://localhost:8080/"
        },
        "id": "IVmYaCg6rUI_",
        "outputId": "aebdb2c5-d69d-45e7-8378-012a4bbaf7c9"
      },
      "execution_count": 47,
      "outputs": [
        {
          "output_type": "stream",
          "name": "stdout",
          "text": [
            "Accuracy (liblinear): 0.9667\n",
            "Accuracy (lbfgs): 0.9333\n",
            "Accuracy (saga): 0.9333\n"
          ]
        }
      ]
    },
    {
      "cell_type": "markdown",
      "source": [
        "22 — Matthews Correlation Coefficient (binary)"
      ],
      "metadata": {
        "id": "HzBZ0ieNqUjQ"
      }
    },
    {
      "cell_type": "code",
      "source": [
        "mcc = matthews_corrcoef(yB_test, lr_bin.predict(XB_test))\n",
        "print(\"Matthews CC (binary):\", round(mcc,4))\n"
      ],
      "metadata": {
        "colab": {
          "base_uri": "https://localhost:8080/"
        },
        "id": "jTMF9_gyrUhP",
        "outputId": "fab95aaa-4a66-470a-d11a-d0460ebb9469"
      },
      "execution_count": 48,
      "outputs": [
        {
          "output_type": "stream",
          "name": "stdout",
          "text": [
            "Matthews CC (binary): 1.0\n"
          ]
        }
      ]
    },
    {
      "cell_type": "markdown",
      "source": [
        "23 — Raw vs Standardized Accuracy (re-stated)"
      ],
      "metadata": {
        "id": "MqSMJZNlqUgY"
      }
    },
    {
      "cell_type": "code",
      "source": [
        "print(\"Raw accuracy        :\", round(accuracy_score(y_test, lr_basic.predict(X_test)),4))\n",
        "print(\"Standardized accuracy:\", round(accuracy_score(y_test, lr_scaled.predict(Xs_te)),4))\n"
      ],
      "metadata": {
        "colab": {
          "base_uri": "https://localhost:8080/"
        },
        "id": "Iifmbnv9rU7w",
        "outputId": "5ef11689-8da8-4579-ebad-9c8c75ff4794"
      },
      "execution_count": 49,
      "outputs": [
        {
          "output_type": "stream",
          "name": "stdout",
          "text": [
            "Raw accuracy        : 0.9667\n",
            "Standardized accuracy: 0.9333\n"
          ]
        }
      ]
    },
    {
      "cell_type": "markdown",
      "source": [
        "24 — Find Optimal C via Cross-Validation"
      ],
      "metadata": {
        "id": "KpoQbkUvqUdh"
      }
    },
    {
      "cell_type": "code",
      "source": [
        "Cs = np.logspace(-3, 2, 10)\n",
        "best_c, best_cv = None, -np.inf\n",
        "for c in Cs:\n",
        "    score = cross_val_score(LogisticRegression(C=c, max_iter=1000), X, y_enc, cv=5).mean()\n",
        "    if score > best_cv: best_cv, best_c = score, c\n",
        "print(\"Best C:\", best_c, \"  CV accuracy:\", round(best_cv,4))\n"
      ],
      "metadata": {
        "colab": {
          "base_uri": "https://localhost:8080/"
        },
        "id": "2u_LVKyxrVpy",
        "outputId": "a98440c2-ee61-4cb4-bde8-7a78e7352f51"
      },
      "execution_count": 50,
      "outputs": [
        {
          "output_type": "stream",
          "name": "stdout",
          "text": [
            "Best C: 27.825594022071257   CV accuracy: 0.98\n"
          ]
        }
      ]
    },
    {
      "cell_type": "markdown",
      "source": [
        "25 — Save & Reload Model with joblib"
      ],
      "metadata": {
        "id": "3TukcBH9qUbP"
      }
    },
    {
      "cell_type": "code",
      "source": [
        "model_path = \"filename.joblib\"\n",
        "joblib.dump(lr_basic, model_path)\n",
        "reloaded = joblib.load(model_path)\n",
        "print(\"Prediction check (first 5):\", reloaded.predict(X_test.head()))\n"
      ],
      "metadata": {
        "colab": {
          "base_uri": "https://localhost:8080/"
        },
        "id": "hMMnT6RnrWFp",
        "outputId": "193cfe7c-670b-463d-bbd1-254b85b9c615"
      },
      "execution_count": 52,
      "outputs": [
        {
          "output_type": "stream",
          "name": "stdout",
          "text": [
            "Prediction check (first 5): [0 2 1 1 0]\n"
          ]
        }
      ]
    }
  ]
}